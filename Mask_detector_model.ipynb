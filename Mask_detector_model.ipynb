{
  "nbformat": 4,
  "nbformat_minor": 0,
  "metadata": {
    "colab": {
      "name": "Mask_detector_model.ipynb",
      "provenance": [],
      "mount_file_id": "13imt1a_VnXt6lEJnujRZU_8Fy4S1evej",
      "authorship_tag": "ABX9TyPA3D88sd6nnBluAqMc2skq",
      "include_colab_link": true
    },
    "kernelspec": {
      "name": "python3",
      "display_name": "Python 3"
    }
  },
  "cells": [
    {
      "cell_type": "markdown",
      "metadata": {
        "id": "view-in-github",
        "colab_type": "text"
      },
      "source": [
        "<a href=\"https://colab.research.google.com/github/Rasa16/Face_mask/blob/master/Mask_detector_model.ipynb\" target=\"_parent\"><img src=\"https://colab.research.google.com/assets/colab-badge.svg\" alt=\"Open In Colab\"/></a>"
      ]
    },
    {
      "cell_type": "code",
      "metadata": {
        "id": "hHAlSj4AXGxj",
        "colab_type": "code",
        "colab": {}
      },
      "source": [
        "# import the necessary packages\n",
        "from tensorflow.keras.preprocessing.image import ImageDataGenerator\n",
        "from tensorflow.keras.applications import MobileNetV2\n",
        "from tensorflow.keras.layers import AveragePooling2D\n",
        "from tensorflow.keras.layers import Dropout\n",
        "from tensorflow.keras.layers import Flatten\n",
        "from tensorflow.keras.layers import Dense\n",
        "from tensorflow.keras.layers import Input\n",
        "from tensorflow.keras.models import Model\n",
        "from tensorflow.keras.optimizers import Adam\n",
        "from tensorflow.keras.applications.mobilenet_v2 import preprocess_input\n",
        "from tensorflow.keras.preprocessing.image import img_to_array\n",
        "from tensorflow.keras.preprocessing.image import load_img\n",
        "from tensorflow.keras.utils import to_categorical\n",
        "from sklearn.preprocessing import LabelBinarizer\n",
        "from sklearn.model_selection import train_test_split\n",
        "from sklearn.metrics import classification_report\n",
        "from imutils import paths\n",
        "import matplotlib.pyplot as plt\n",
        "import numpy as np\n",
        "import argparse\n",
        "import os"
      ],
      "execution_count": null,
      "outputs": []
    },
    {
      "cell_type": "code",
      "metadata": {
        "id": "g-Dq8h4jXZw5",
        "colab_type": "code",
        "colab": {}
      },
      "source": [
        "args = {\n",
        "    'dataset': '/content/drive/My Drive/face-mask-detector/dataset',\n",
        "    'plot': '/content/drive/My Drive/face_mask_model',\n",
        "    'model': '/content/drive/My Drive/face-mask-detector/mask_detector.model'\n",
        "}"
      ],
      "execution_count": null,
      "outputs": []
    },
    {
      "cell_type": "code",
      "metadata": {
        "id": "MXYg7PgzYKXt",
        "colab_type": "code",
        "colab": {}
      },
      "source": [
        "# initialize the initial learning rate, number of epochs to train for,\n",
        "# and batch size\n",
        "INIT_LR = 1e-4\n",
        "EPOCHS = 20\n",
        "BS = 32"
      ],
      "execution_count": null,
      "outputs": []
    },
    {
      "cell_type": "code",
      "metadata": {
        "id": "2HjUdZ5vYPTZ",
        "colab_type": "code",
        "colab": {
          "base_uri": "https://localhost:8080/",
          "height": 34
        },
        "outputId": "8b3a92e8-9548-4793-984a-cdb9b0de17d6"
      },
      "source": [
        "# grab the list of images in our dataset directory, then initialize\n",
        "# the list of data (i.e., images) and class images\n",
        "print(\"[INFO] loading images...\")\n",
        "imagePaths = list(paths.list_images(args[\"dataset\"]))\n",
        "data = []\n",
        "labels = []\n",
        "\n",
        "# loop over the image paths\n",
        "for imagePath in imagePaths:\n",
        "\t# extract the class label from the filename\n",
        "\tlabel = imagePath.split(os.path.sep)[-2]\n",
        "\n",
        "\t# load the input image (224x224) and preprocess it\n",
        "\timage = load_img(imagePath, target_size=(224, 224))\n",
        "\timage = img_to_array(image)\n",
        "\timage = preprocess_input(image)\n",
        "\n",
        "\t# update the data and labels lists, respectively\n",
        "\tdata.append(image)\n",
        "\tlabels.append(label)\n",
        "\n",
        "# convert the data and labels to NumPy arrays\n",
        "data = np.array(data, dtype=\"float32\")\n",
        "labels = np.array(labels)"
      ],
      "execution_count": null,
      "outputs": [
        {
          "output_type": "stream",
          "text": [
            "[INFO] loading images...\n"
          ],
          "name": "stdout"
        }
      ]
    },
    {
      "cell_type": "code",
      "metadata": {
        "id": "oqcHylUjYUHq",
        "colab_type": "code",
        "colab": {}
      },
      "source": [
        "# perform one-hot encoding on the labels\n",
        "lb = LabelBinarizer()\n",
        "labels = lb.fit_transform(labels)\n",
        "labels = to_categorical(labels)\n",
        "\n",
        "# partition the data into training and testing splits using 80% of\n",
        "# the data for training and the remaining 20% for testing\n",
        "(trainX, testX, trainY, testY) = train_test_split(data, labels,\n",
        "\ttest_size=0.20, stratify=labels, random_state=42)\n",
        "\n",
        "# construct the training image generator for data augmentation\n",
        "aug = ImageDataGenerator(\n",
        "\trotation_range=20,\n",
        "\tzoom_range=0.15,\n",
        "\twidth_shift_range=0.2,\n",
        "\theight_shift_range=0.2,\n",
        "\tshear_range=0.15,\n",
        "\thorizontal_flip=True,\n",
        "\tfill_mode=\"nearest\")"
      ],
      "execution_count": null,
      "outputs": []
    },
    {
      "cell_type": "code",
      "metadata": {
        "id": "5zIBvZH-arox",
        "colab_type": "code",
        "colab": {
          "base_uri": "https://localhost:8080/",
          "height": 87
        },
        "outputId": "d271b139-9f7e-42d3-f7e9-7a0ccd6bc452"
      },
      "source": [
        "# load the MobileNetV2 network, ensuring the head FC layer sets are\n",
        "# left off\n",
        "baseModel = MobileNetV2(weights=\"imagenet\", include_top=False,\n",
        "\tinput_tensor=Input(shape=(224, 224, 3)))\n",
        "\n",
        "# construct the head of the model that will be placed on top of the\n",
        "# the base model\n",
        "headModel = baseModel.output\n",
        "headModel = AveragePooling2D(pool_size=(7, 7))(headModel)\n",
        "headModel = Flatten(name=\"flatten\")(headModel)\n",
        "headModel = Dense(128, activation=\"relu\")(headModel)\n",
        "headModel = Dropout(0.5)(headModel)\n",
        "headModel = Dense(2, activation=\"softmax\")(headModel)\n",
        "\n",
        "# place the head FC model on top of the base model (this will become\n",
        "# the actual model we will train)\n",
        "model = Model(inputs=baseModel.input, outputs=headModel)\n",
        "\n",
        "# loop over all layers in the base model and freeze them so they will\n",
        "# *not* be updated during the first training process\n",
        "for layer in baseModel.layers:\n",
        "\tlayer.trainable = False"
      ],
      "execution_count": null,
      "outputs": [
        {
          "output_type": "stream",
          "text": [
            "WARNING:tensorflow:`input_shape` is undefined or non-square, or `rows` is not in [96, 128, 160, 192, 224]. Weights for input shape (224, 224) will be loaded as the default.\n",
            "Downloading data from https://storage.googleapis.com/tensorflow/keras-applications/mobilenet_v2/mobilenet_v2_weights_tf_dim_ordering_tf_kernels_1.0_224_no_top.h5\n",
            "9412608/9406464 [==============================] - 0s 0us/step\n"
          ],
          "name": "stdout"
        }
      ]
    },
    {
      "cell_type": "code",
      "metadata": {
        "id": "LsVjNom9axLy",
        "colab_type": "code",
        "colab": {
          "base_uri": "https://localhost:8080/",
          "height": 722
        },
        "outputId": "99e7270d-8b1e-4771-f601-4b946ae02ac9"
      },
      "source": [
        "# compile our model\n",
        "print(\"[INFO] compiling model...\")\n",
        "opt = Adam(lr=INIT_LR, decay=INIT_LR / EPOCHS)\n",
        "model.compile(loss=\"binary_crossentropy\", optimizer=opt,\n",
        "\tmetrics=[\"accuracy\"])\n",
        "\n",
        "# train the head of the network\n",
        "print(\"[INFO] training head...\")\n",
        "H = model.fit(\n",
        "\taug.flow(trainX, trainY, batch_size=BS),\n",
        "\tsteps_per_epoch=len(trainX) // BS,\n",
        "\tvalidation_data=(testX, testY),\n",
        "\tvalidation_steps=len(testX) // BS,\n",
        "\tepochs=EPOCHS)"
      ],
      "execution_count": null,
      "outputs": [
        {
          "output_type": "stream",
          "text": [
            "[INFO] compiling model...\n",
            "[INFO] training head...\n",
            "Epoch 1/20\n",
            "34/34 [==============================] - 15s 444ms/step - loss: 0.3602 - accuracy: 0.8391 - val_loss: 0.0965 - val_accuracy: 0.9891\n",
            "Epoch 2/20\n",
            "34/34 [==============================] - 13s 388ms/step - loss: 0.1296 - accuracy: 0.9616 - val_loss: 0.0427 - val_accuracy: 0.9891\n",
            "Epoch 3/20\n",
            "34/34 [==============================] - 13s 388ms/step - loss: 0.0707 - accuracy: 0.9785 - val_loss: 0.0307 - val_accuracy: 0.9928\n",
            "Epoch 4/20\n",
            "34/34 [==============================] - 13s 393ms/step - loss: 0.0580 - accuracy: 0.9794 - val_loss: 0.0223 - val_accuracy: 0.9928\n",
            "Epoch 5/20\n",
            "34/34 [==============================] - 13s 387ms/step - loss: 0.0421 - accuracy: 0.9897 - val_loss: 0.0196 - val_accuracy: 0.9928\n",
            "Epoch 6/20\n",
            "34/34 [==============================] - 13s 388ms/step - loss: 0.0389 - accuracy: 0.9906 - val_loss: 0.0175 - val_accuracy: 0.9928\n",
            "Epoch 7/20\n",
            "34/34 [==============================] - 13s 389ms/step - loss: 0.0342 - accuracy: 0.9935 - val_loss: 0.0174 - val_accuracy: 0.9964\n",
            "Epoch 8/20\n",
            "34/34 [==============================] - 14s 399ms/step - loss: 0.0240 - accuracy: 0.9953 - val_loss: 0.0130 - val_accuracy: 0.9964\n",
            "Epoch 9/20\n",
            "34/34 [==============================] - 13s 388ms/step - loss: 0.0201 - accuracy: 0.9963 - val_loss: 0.0119 - val_accuracy: 0.9964\n",
            "Epoch 10/20\n",
            "34/34 [==============================] - 13s 389ms/step - loss: 0.0202 - accuracy: 0.9935 - val_loss: 0.0117 - val_accuracy: 0.9964\n",
            "Epoch 11/20\n",
            "34/34 [==============================] - 13s 391ms/step - loss: 0.0151 - accuracy: 0.9963 - val_loss: 0.0111 - val_accuracy: 0.9964\n",
            "Epoch 12/20\n",
            "34/34 [==============================] - 13s 388ms/step - loss: 0.0196 - accuracy: 0.9953 - val_loss: 0.0115 - val_accuracy: 0.9964\n",
            "Epoch 13/20\n",
            "34/34 [==============================] - 13s 386ms/step - loss: 0.0202 - accuracy: 0.9925 - val_loss: 0.0104 - val_accuracy: 0.9964\n",
            "Epoch 14/20\n",
            "34/34 [==============================] - 13s 387ms/step - loss: 0.0164 - accuracy: 0.9935 - val_loss: 0.0109 - val_accuracy: 0.9964\n",
            "Epoch 15/20\n",
            "34/34 [==============================] - 14s 402ms/step - loss: 0.0135 - accuracy: 0.9953 - val_loss: 0.0082 - val_accuracy: 1.0000\n",
            "Epoch 16/20\n",
            "34/34 [==============================] - 13s 388ms/step - loss: 0.0193 - accuracy: 0.9944 - val_loss: 0.0081 - val_accuracy: 1.0000\n",
            "Epoch 17/20\n",
            "34/34 [==============================] - 13s 385ms/step - loss: 0.0079 - accuracy: 1.0000 - val_loss: 0.0073 - val_accuracy: 1.0000\n",
            "Epoch 18/20\n",
            "34/34 [==============================] - 13s 388ms/step - loss: 0.0123 - accuracy: 0.9953 - val_loss: 0.0077 - val_accuracy: 1.0000\n",
            "Epoch 19/20\n",
            "34/34 [==============================] - 13s 388ms/step - loss: 0.0095 - accuracy: 0.9972 - val_loss: 0.0065 - val_accuracy: 1.0000\n",
            "Epoch 20/20\n",
            "34/34 [==============================] - 13s 393ms/step - loss: 0.0101 - accuracy: 0.9972 - val_loss: 0.0084 - val_accuracy: 0.9964\n"
          ],
          "name": "stdout"
        }
      ]
    },
    {
      "cell_type": "code",
      "metadata": {
        "id": "b6Wv58kza446",
        "colab_type": "code",
        "colab": {
          "base_uri": "https://localhost:8080/",
          "height": 202
        },
        "outputId": "d5ca5048-8ee1-4e19-8bf5-efc3d0696f40"
      },
      "source": [
        "# make predictions on the testing set\n",
        "print(\"[INFO] evaluating network...\")\n",
        "predIdxs = model.predict(testX, batch_size=BS)\n",
        "\n",
        "# for each image in the testing set we need to find the index of the\n",
        "# label with corresponding largest predicted probability\n",
        "predIdxs = np.argmax(predIdxs, axis=1)\n",
        "\n",
        "# show a nicely formatted classification report\n",
        "print(classification_report(testY.argmax(axis=1), predIdxs,\n",
        "\ttarget_names=lb.classes_))\n",
        "\n",
        "# serialize the model to disk\n",
        "print(\"[INFO] saving mask detector model...\")\n",
        "model.save('/content/drive/My Drive/face_mask_model/face_model.model', save_format=\"h5\")"
      ],
      "execution_count": null,
      "outputs": [
        {
          "output_type": "stream",
          "text": [
            "[INFO] evaluating network...\n",
            "              precision    recall  f1-score   support\n",
            "\n",
            "   with_mask       0.99      1.00      1.00       138\n",
            "without_mask       1.00      0.99      1.00       138\n",
            "\n",
            "    accuracy                           1.00       276\n",
            "   macro avg       1.00      1.00      1.00       276\n",
            "weighted avg       1.00      1.00      1.00       276\n",
            "\n",
            "[INFO] saving mask detector model...\n"
          ],
          "name": "stdout"
        }
      ]
    },
    {
      "cell_type": "code",
      "metadata": {
        "id": "KNPeHKYYcRLp",
        "colab_type": "code",
        "colab": {
          "base_uri": "https://localhost:8080/",
          "height": 299
        },
        "outputId": "81458584-90d0-4a11-9394-d7a295c40853"
      },
      "source": [
        "# plot the training loss and accuracy\n",
        "N = EPOCHS\n",
        "plt.style.use(\"ggplot\")\n",
        "plt.figure()\n",
        "plt.plot(np.arange(0, N), H.history[\"loss\"], label=\"train_loss\")\n",
        "plt.plot(np.arange(0, N), H.history[\"val_loss\"], label=\"val_loss\")\n",
        "plt.plot(np.arange(0, N), H.history[\"accuracy\"], label=\"train_acc\")\n",
        "plt.plot(np.arange(0, N), H.history[\"val_accuracy\"], label=\"val_acc\")\n",
        "plt.title(\"Training Loss and Accuracy\")\n",
        "plt.xlabel(\"Epoch #\")\n",
        "plt.ylabel(\"Loss/Accuracy\")\n",
        "plt.legend(loc=\"lower left\")\n",
        "plt.savefig(args[\"plot\"])"
      ],
      "execution_count": null,
      "outputs": [
        {
          "output_type": "display_data",
          "data": {
            "image/png": "[encoded data removed]",
            "text/plain": [
              "<Figure size 432x288 with 1 Axes>"
            ]
          },
          "metadata": {
            "tags": []
          }
        }
      ]
    },
    {
      "cell_type": "code",
      "metadata": {
        "id": "6P-e6rbXcdb_",
        "colab_type": "code",
        "colab": {}
      },
      "source": [
        ""
      ],
      "execution_count": null,
      "outputs": []
    }
  ]
}